{
  "nbformat": 4,
  "nbformat_minor": 0,
  "metadata": {
    "colab": {
      "provenance": [],
      "authorship_tag": "ABX9TyNROFU9TduXRc6Cuqz8+ZFP",
      "include_colab_link": true
    },
    "kernelspec": {
      "name": "python3",
      "display_name": "Python 3"
    },
    "language_info": {
      "name": "python"
    },
    "widgets": {
      "application/vnd.jupyter.widget-state+json": {
        "18d1a9c868384a8788114b1d70ea9c4b": {
          "model_module": "@jupyter-widgets/controls",
          "model_name": "FileUploadModel",
          "model_module_version": "1.5.0",
          "state": {
            "_counter": 2,
            "_dom_classes": [],
            "_model_module": "@jupyter-widgets/controls",
            "_model_module_version": "1.5.0",
            "_model_name": "FileUploadModel",
            "_view_count": null,
            "_view_module": "@jupyter-widgets/controls",
            "_view_module_version": "1.5.0",
            "_view_name": "FileUploadView",
            "accept": ".bed",
            "button_style": "",
            "data": [
              null,
              null
            ],
            "description": "Upload",
            "description_tooltip": null,
            "disabled": false,
            "error": "",
            "icon": "upload",
            "layout": "IPY_MODEL_1dcab6b20ac344a4be69b6a5c97b9886",
            "metadata": [
              {
                "name": "f1.bed",
                "type": "",
                "size": 20,
                "lastModified": 1685875157085
              },
              {
                "name": "f2.bed",
                "type": "",
                "size": 21,
                "lastModified": 1685875186068
              }
            ],
            "multiple": true,
            "style": "IPY_MODEL_0748330aac6f4f0bb70a32b3a0d0d161"
          }
        },
        "1dcab6b20ac344a4be69b6a5c97b9886": {
          "model_module": "@jupyter-widgets/base",
          "model_name": "LayoutModel",
          "model_module_version": "1.2.0",
          "state": {
            "_model_module": "@jupyter-widgets/base",
            "_model_module_version": "1.2.0",
            "_model_name": "LayoutModel",
            "_view_count": null,
            "_view_module": "@jupyter-widgets/base",
            "_view_module_version": "1.2.0",
            "_view_name": "LayoutView",
            "align_content": null,
            "align_items": null,
            "align_self": null,
            "border": null,
            "bottom": null,
            "display": null,
            "flex": null,
            "flex_flow": null,
            "grid_area": null,
            "grid_auto_columns": null,
            "grid_auto_flow": null,
            "grid_auto_rows": null,
            "grid_column": null,
            "grid_gap": null,
            "grid_row": null,
            "grid_template_areas": null,
            "grid_template_columns": null,
            "grid_template_rows": null,
            "height": null,
            "justify_content": null,
            "justify_items": null,
            "left": null,
            "margin": null,
            "max_height": null,
            "max_width": null,
            "min_height": null,
            "min_width": null,
            "object_fit": null,
            "object_position": null,
            "order": null,
            "overflow": null,
            "overflow_x": null,
            "overflow_y": null,
            "padding": null,
            "right": null,
            "top": null,
            "visibility": null,
            "width": null
          }
        },
        "0748330aac6f4f0bb70a32b3a0d0d161": {
          "model_module": "@jupyter-widgets/controls",
          "model_name": "ButtonStyleModel",
          "model_module_version": "1.5.0",
          "state": {
            "_model_module": "@jupyter-widgets/controls",
            "_model_module_version": "1.5.0",
            "_model_name": "ButtonStyleModel",
            "_view_count": null,
            "_view_module": "@jupyter-widgets/base",
            "_view_module_version": "1.2.0",
            "_view_name": "StyleView",
            "button_color": null,
            "font_weight": ""
          }
        },
        "870172dc9bbf415cadd2f93fd26ee88f": {
          "model_module": "@jupyter-widgets/controls",
          "model_name": "FileUploadModel",
          "model_module_version": "1.5.0",
          "state": {
            "_counter": 2,
            "_dom_classes": [],
            "_model_module": "@jupyter-widgets/controls",
            "_model_module_version": "1.5.0",
            "_model_name": "FileUploadModel",
            "_view_count": null,
            "_view_module": "@jupyter-widgets/controls",
            "_view_module_version": "1.5.0",
            "_view_name": "FileUploadView",
            "accept": ".txt",
            "button_style": "",
            "data": [
              null
            ],
            "description": "Upload",
            "description_tooltip": null,
            "disabled": false,
            "error": "",
            "icon": "upload",
            "layout": "IPY_MODEL_c0b4ad36ea5e4d3d85fe95203c32bdfb",
            "metadata": [
              {
                "name": "hg19.chrom.sizes.txt",
                "type": "text/plain",
                "size": 30,
                "lastModified": 1687947484087
              }
            ],
            "multiple": false,
            "style": "IPY_MODEL_d69051fb94be474095e0561814f6df33"
          }
        },
        "c0b4ad36ea5e4d3d85fe95203c32bdfb": {
          "model_module": "@jupyter-widgets/base",
          "model_name": "LayoutModel",
          "model_module_version": "1.2.0",
          "state": {
            "_model_module": "@jupyter-widgets/base",
            "_model_module_version": "1.2.0",
            "_model_name": "LayoutModel",
            "_view_count": null,
            "_view_module": "@jupyter-widgets/base",
            "_view_module_version": "1.2.0",
            "_view_name": "LayoutView",
            "align_content": null,
            "align_items": null,
            "align_self": null,
            "border": null,
            "bottom": null,
            "display": null,
            "flex": null,
            "flex_flow": null,
            "grid_area": null,
            "grid_auto_columns": null,
            "grid_auto_flow": null,
            "grid_auto_rows": null,
            "grid_column": null,
            "grid_gap": null,
            "grid_row": null,
            "grid_template_areas": null,
            "grid_template_columns": null,
            "grid_template_rows": null,
            "height": null,
            "justify_content": null,
            "justify_items": null,
            "left": null,
            "margin": null,
            "max_height": null,
            "max_width": null,
            "min_height": null,
            "min_width": null,
            "object_fit": null,
            "object_position": null,
            "order": null,
            "overflow": null,
            "overflow_x": null,
            "overflow_y": null,
            "padding": null,
            "right": null,
            "top": null,
            "visibility": null,
            "width": null
          }
        },
        "d69051fb94be474095e0561814f6df33": {
          "model_module": "@jupyter-widgets/controls",
          "model_name": "ButtonStyleModel",
          "model_module_version": "1.5.0",
          "state": {
            "_model_module": "@jupyter-widgets/controls",
            "_model_module_version": "1.5.0",
            "_model_name": "ButtonStyleModel",
            "_view_count": null,
            "_view_module": "@jupyter-widgets/base",
            "_view_module_version": "1.2.0",
            "_view_name": "StyleView",
            "button_color": null,
            "font_weight": ""
          }
        }
      }
    }
  },
  "cells": [
    {
      "cell_type": "markdown",
      "metadata": {
        "id": "view-in-github",
        "colab_type": "text"
      },
      "source": [
        "<a href=\"https://colab.research.google.com/github/Madund3ad/assoc_example/blob/main/Template.ipynb\" target=\"_parent\"><img src=\"https://colab.research.google.com/assets/colab-badge.svg\" alt=\"Open In Colab\"/></a>"
      ]
    },
    {
      "cell_type": "markdown",
      "source": [
        "##Association"
      ],
      "metadata": {
        "id": "KxOOaRe6HexZ"
      }
    },
    {
      "cell_type": "markdown",
      "source": [
        "Загрузка модуля"
      ],
      "metadata": {
        "id": "wQFZ5UMxuCH5"
      }
    },
    {
      "cell_type": "code",
      "execution_count": 1,
      "metadata": {
        "colab": {
          "base_uri": "https://localhost:8080/"
        },
        "id": "TxE83dQPnL8z",
        "outputId": "6ece959c-8999-433e-fa12-7445fb58c298"
      },
      "outputs": [
        {
          "output_type": "stream",
          "name": "stdout",
          "text": [
            "Cloning into 'Association'...\n",
            "remote: Enumerating objects: 97, done.\u001b[K\n",
            "remote: Counting objects: 100% (97/97), done.\u001b[K\n",
            "remote: Compressing objects: 100% (93/93), done.\u001b[K\n",
            "remote: Total 97 (delta 35), reused 0 (delta 0), pack-reused 0\u001b[K\n",
            "Unpacking objects: 100% (97/97), 33.23 KiB | 1.33 MiB/s, done.\n"
          ]
        }
      ],
      "source": [
        "#!rm -rf /content/Association\n",
        "!git clone https://github.com/Madund3ad/Association.git"
      ]
    },
    {
      "cell_type": "code",
      "source": [
        "import ipywidgets as widgets\n",
        "import sys\n",
        "sys.path.insert(0,'/content/Association/')\n",
        "from pathlib import Path"
      ],
      "metadata": {
        "id": "TalAWZMHmIhn"
      },
      "execution_count": 55,
      "outputs": []
    },
    {
      "cell_type": "code",
      "source": [
        "!pip install -Iv rpy2==3.4.2"
      ],
      "metadata": {
        "id": "nYZRwG54rSBX"
      },
      "execution_count": null,
      "outputs": []
    },
    {
      "cell_type": "code",
      "source": [
        "%load_ext rpy2.ipython"
      ],
      "metadata": {
        "id": "J39uVQq0nOmu"
      },
      "execution_count": 4,
      "outputs": []
    },
    {
      "cell_type": "markdown",
      "source": [
        "Установка пакетов"
      ],
      "metadata": {
        "id": "OeEU42tWZm-Q"
      }
    },
    {
      "cell_type": "code",
      "source": [
        "%%R\n",
        "if (!require('BiocManager', quietly = TRUE))\n",
        "    install.packages('BiocManager')\n",
        "BiocManager::install(\"GenomicFeatures\")\n",
        "BiocManager::install(\"rtracklayer\")\n",
        "BiocManager::install(\"regioneR\")\n",
        "install.packages(\"curl\")\n",
        "install.packages(\"doParallel\")\n",
        "install.packages('optparse')"
      ],
      "metadata": {
        "id": "cRHw9jAYncmz"
      },
      "execution_count": null,
      "outputs": []
    },
    {
      "cell_type": "code",
      "source": [
        "# Changeable\n",
        "PATH_TO_INPUT_BED_DIR = Path(\"./input/\")\n",
        "PATH_TO_INPUT_GENOME_DIR = Path(\"./genome/\")"
      ],
      "metadata": {
        "id": "el6yfVsSlnsD"
      },
      "execution_count": 63,
      "outputs": []
    },
    {
      "cell_type": "markdown",
      "source": [
        "Загрузка файлов с аннотацией в формате bed"
      ],
      "metadata": {
        "id": "6c_NKUtmtLb8"
      }
    },
    {
      "cell_type": "code",
      "source": [
        "upload_annotation = widgets.FileUpload(\n",
        "    accept='.bed',\n",
        "    multiple=True\n",
        ")\n",
        "display(upload_annotation)"
      ],
      "metadata": {
        "colab": {
          "base_uri": "https://localhost:8080/",
          "height": 49,
          "referenced_widgets": [
            "18d1a9c868384a8788114b1d70ea9c4b",
            "1dcab6b20ac344a4be69b6a5c97b9886",
            "0748330aac6f4f0bb70a32b3a0d0d161"
          ]
        },
        "id": "UODPo3c5k4BQ",
        "outputId": "1f6564f0-0098-4297-9b02-9e3c5e4fabfa"
      },
      "execution_count": 84,
      "outputs": [
        {
          "output_type": "display_data",
          "data": {
            "text/plain": [
              "FileUpload(value={}, accept='.bed', description='Upload', multiple=True)"
            ],
            "application/vnd.jupyter.widget-view+json": {
              "version_major": 2,
              "version_minor": 0,
              "model_id": "18d1a9c868384a8788114b1d70ea9c4b"
            }
          },
          "metadata": {}
        }
      ]
    },
    {
      "cell_type": "markdown",
      "source": [
        "Загрузка файла с размерами хромосом"
      ],
      "metadata": {
        "id": "sX6VA-a2tQmX"
      }
    },
    {
      "cell_type": "code",
      "source": [
        "upload_chrom = widgets.FileUpload(\n",
        "    accept='.txt',\n",
        "    multiple=False\n",
        ")\n",
        "\n",
        "display(upload_chrom)"
      ],
      "metadata": {
        "colab": {
          "base_uri": "https://localhost:8080/",
          "height": 49,
          "referenced_widgets": [
            "870172dc9bbf415cadd2f93fd26ee88f",
            "c0b4ad36ea5e4d3d85fe95203c32bdfb",
            "d69051fb94be474095e0561814f6df33"
          ]
        },
        "id": "-ewEuvttoG6D",
        "outputId": "1122c8af-da49-43fb-93d6-6c19d560bdf7"
      },
      "execution_count": 65,
      "outputs": [
        {
          "output_type": "display_data",
          "data": {
            "text/plain": [
              "FileUpload(value={}, accept='.txt', description='Upload')"
            ],
            "application/vnd.jupyter.widget-view+json": {
              "version_major": 2,
              "version_minor": 0,
              "model_id": "870172dc9bbf415cadd2f93fd26ee88f"
            }
          },
          "metadata": {}
        }
      ]
    },
    {
      "cell_type": "code",
      "source": [
        "DATA_DIR_NAME = list(upload_annotation.value)[0].rsplit('.', maxsplit=2)[0]\n",
        "for filename in upload_annotation.value:\n",
        "  path_to_input_file = (\n",
        "      PATH_TO_INPUT_BED_DIR / filename\n",
        "  )\n",
        "  path_to_input_file.parent.mkdir(parents=True, exist_ok=True)\n",
        "  with open(path_to_input_file, 'wb') as f_out:\n",
        "    content = upload_annotation.value[filename]['content']\n",
        "    f_out.write(content)"
      ],
      "metadata": {
        "id": "KoHJqGnOl-Wf"
      },
      "execution_count": 85,
      "outputs": []
    },
    {
      "cell_type": "code",
      "source": [
        "for uploaded_filename in upload_annotation.value:\n",
        "  print(f\"Аnnotation \\\"{uploaded_filename}\\\" was successfullly uploaded.\")"
      ],
      "metadata": {
        "colab": {
          "base_uri": "https://localhost:8080/"
        },
        "id": "crtrTHPdv0Xs",
        "outputId": "1e6ccd5c-15b5-4546-9efa-a6d0e184b679"
      },
      "execution_count": 87,
      "outputs": [
        {
          "output_type": "stream",
          "name": "stdout",
          "text": [
            "Аnnotation \"f1.bed\" was successfullly uploaded.\n",
            "Аnnotation \"f2.bed\" was successfullly uploaded.\n"
          ]
        }
      ]
    },
    {
      "cell_type": "code",
      "source": [
        "chrom=list(upload_chrom.value)[0]\n",
        "path_to_input_file = (\n",
        "      PATH_TO_INPUT_GENOME_DIR / chrom)\n",
        "path_to_input_file.parent.mkdir(parents=True, exist_ok=True)\n",
        "with open(path_to_input_file, 'wb') as f_out:\n",
        "    content = upload_chrom.value[chrom]['content']\n",
        "    f_out.write(content)"
      ],
      "metadata": {
        "id": "uspWcGvWoseN"
      },
      "execution_count": 83,
      "outputs": []
    },
    {
      "cell_type": "code",
      "source": [
        "for uploaded_filename in upload_chrom.value:\n",
        "  print(f\"Chrom sizes file \\\"{uploaded_filename}\\\" was successfullly uploaded.\")"
      ],
      "metadata": {
        "colab": {
          "base_uri": "https://localhost:8080/"
        },
        "id": "8QBlIZPMv7e8",
        "outputId": "5b0240a6-f32f-4e17-e752-53b6de2b08a2"
      },
      "execution_count": 95,
      "outputs": [
        {
          "output_type": "stream",
          "name": "stdout",
          "text": [
            "Chrom sizes file \"hg19.chrom.sizes.txt\" was successfullly uploaded.\n"
          ]
        }
      ]
    },
    {
      "cell_type": "markdown",
      "source": [
        "Запуск модуля с параметрами по-умолчанию"
      ],
      "metadata": {
        "id": "YJZl6WpMtb2d"
      }
    },
    {
      "cell_type": "code",
      "source": [
        "!Rscript ./Association/Association/main_assoc.R -i ./input/ -c ./genome/{chrom}"
      ],
      "metadata": {
        "colab": {
          "base_uri": "https://localhost:8080/"
        },
        "id": "002IMJjuppkF",
        "outputId": "4063d2d7-643c-4e0c-9d97-9d02cd0028e0"
      },
      "execution_count": 80,
      "outputs": [
        {
          "output_type": "stream",
          "name": "stdout",
          "text": [
            "output path is not provided writing to /content/storage\n",
            "Usage: ./Association/Association/main_assoc.R [options]\n",
            "\n",
            "\n",
            "Options:\n",
            "\t-i <INPUT DIR>, --dir=<INPUT DIR>\n",
            "\t\tpath to input folder with bed files\n",
            "\n",
            "\t-o <PATH>, --out=<PATH>\n",
            "\t\toutput files directory [default= NULL]\n",
            "\n",
            "\t-g <GENOME.GTF>, --genome=<GENOME.GTF>\n",
            "\t\tpath to genome annotation file\n",
            "\n",
            "\t-c CHROM.SIZES, --chrom=CHROM.SIZES\n",
            "\t\tpath to chrom sizes file\n",
            "\n",
            "\t-v, --verbose\n",
            "\t\tverbosity level [default= FALSE]\n",
            "\n",
            "\t-p, --simulate\n",
            "\t\tenable simulated p-value\n",
            "\n",
            "\t-n NUMERIC, --nsim=NUMERIC\n",
            "\t\tnumber of simulations [default= 1000]\n",
            "\n",
            "\t-m CHARACTER, --mode=CHARACTER\n",
            "\t\tset scoring mode\n",
            "              region - use number of overlapping regions \n",
            "              bp - use overlap size \n",
            "              weighted_bp use score column\n",
            "\n",
            "\t-s, --strand\n",
            "\t\ttake strand into consideration\n",
            "\n",
            "\t-t CHARACTER, --target=CHARACTER\n",
            "\t\tpath to target file in one vs many mode\n",
            "\n",
            "\t-k MASK.BED, --mask=MASK.BED\n",
            "\t\tpath to mask file\n",
            "\n",
            "\t-h, --help\n",
            "\t\tShow this help message and exit\n",
            "\n",
            "\n",
            "genome file is not suppliedUsing parameters:\n",
            "dir = ./input/ \n",
            "chrom = ./genome/hg19.chrom.sizes.txt \n",
            "verbose = FALSE \n",
            "simulate = FALSE \n",
            "nsim = 1000 \n",
            "mode = region \n",
            "strand = FALSE \n",
            "help = FALSE \n",
            "\u001b[?25h\u001b[?25h\u001b[?25h\u001b[?25h\u001b[?25h\u001b[?25h\u001b[?25h\u001b[?25h\u001b[?25h\u001b[?25h\u001b[?25h\u001b[?25h\u001b[?25h\u001b[?25h\u001b[?25h\u001b[?25h\u001b[?25h\u001b[?25h\u001b[?25h[1] \"2023-06-28 11:14:27.39624 Starting in many vs many mode\"\n",
            "Warning messages:\n",
            "1: In read.table(con, colClasses = bedClasses, as.is = TRUE, na.strings = c(\".\",  :\n",
            "  incomplete final line found by readTableHeader on './input//f1.bed'\n",
            "2: In read.table(con, colClasses = bedClasses, as.is = TRUE, na.strings = c(\".\",  :\n",
            "  incomplete final line found by readTableHeader on './input//f1.bed'\n",
            "3: In read.table(con, colClasses = bedClasses, as.is = TRUE, na.strings = c(\".\",  :\n",
            "  incomplete final line found by readTableHeader on './input//f2.bed'\n",
            "4: In read.table(file = file, header = header, sep = sep, quote = quote,  :\n",
            "  incomplete final line found by readTableHeader on './genome/hg19.chrom.sizes.txt'\n",
            "5: In chisq.test(m, simulate.p.value = simulate.p.value) :\n",
            "  Chi-squared approximation may be incorrect\n",
            "6: In read.table(file = file, header = header, sep = sep, quote = quote,  :\n",
            "  incomplete final line found by readTableHeader on './genome/hg19.chrom.sizes.txt'\n",
            "7: In chisq.test(m, simulate.p.value = simulate.p.value) :\n",
            "  Chi-squared approximation may be incorrect\n",
            "8: In read.table(con, colClasses = bedClasses, as.is = TRUE, na.strings = c(\".\",  :\n",
            "  incomplete final line found by readTableHeader on './input//f2.bed'\n",
            "9: In read.table(con, colClasses = bedClasses, as.is = TRUE, na.strings = c(\".\",  :\n",
            "  incomplete final line found by readTableHeader on './input//f2.bed'\n",
            "\u001b[?25h\u001b[?25h\u001b[?25h\u001b[?25h\u001b[?25h\u001b[?25h\u001b[?25h\u001b[?25h\u001b[?25h"
          ]
        }
      ]
    },
    {
      "cell_type": "markdown",
      "source": [
        "Вывод результатов"
      ],
      "metadata": {
        "id": "MeuQqwrAtmf8"
      }
    },
    {
      "cell_type": "code",
      "source": [
        "!cat /content/storage/results.csv"
      ],
      "metadata": {
        "colab": {
          "base_uri": "https://localhost:8080/"
        },
        "id": "bcKq4hfBsYLb",
        "outputId": "ef75a5af-8edf-4cbd-dd00-d66fa9e1a439"
      },
      "execution_count": 81,
      "outputs": [
        {
          "output_type": "stream",
          "name": "stdout",
          "text": [
            "file_name\tf1\tf1_pr\tf1_p\tf2\tf2_pr\tf2_p\n",
            "f1\t2\t100 %\t-\t1\t50 %\t0\n",
            "f2\t1\t50 %\t0\t2\t100 %\t-\n"
          ]
        }
      ]
    },
    {
      "cell_type": "markdown",
      "source": [
        "Arguments\n",
        "\n",
        "    -i , --dir\n",
        "            path to folder with bed files\n",
        "    -o , --out\n",
        "            output files directory [default= NULL]\n",
        "    -g , --genome\n",
        "            path to genome file\n",
        "    -c , --chrom\n",
        "            path to chrom sizes file\n",
        "    -v, --verbose\n",
        "            verbosity level [default= FALSE]\n",
        "    -p, --simulate\n",
        "            enable simulated p-value\n",
        "    -n NUMERIC, --nsim=NUMERIC\n",
        "            number of simulations [default= 1000]\n",
        "    -m CHARACTER, --mode=CHARACTER\n",
        "            set scoring mode\n",
        "          region - use number of overlapping regions (default)\n",
        "          bp - use overlap size\n",
        "          weighted_bp use score column\n",
        "    -s , --strand\n",
        "            ignore strands\n",
        "    -t , --target\n",
        "            path to target file in one vs many mode\n",
        "    -h, --help\n",
        "            Show this help message and exit"
      ],
      "metadata": {
        "id": "YwcHO-BdHoDR"
      }
    },
    {
      "cell_type": "code",
      "source": [],
      "metadata": {
        "id": "tl0G2Zbi1o0z"
      },
      "execution_count": 27,
      "outputs": []
    },
    {
      "cell_type": "markdown",
      "source": [
        "#Loading example"
      ],
      "metadata": {
        "id": "xY-lsME3I_cd"
      }
    },
    {
      "cell_type": "code",
      "source": [
        "!git clone https://github.com/hse-bioinflab/framework"
      ],
      "metadata": {
        "colab": {
          "base_uri": "https://localhost:8080/"
        },
        "id": "Z3qSo1d4cFmr",
        "outputId": "a6af2d4b-af4d-44b1-e702-274a418b9e9c"
      },
      "execution_count": 26,
      "outputs": [
        {
          "output_type": "stream",
          "name": "stdout",
          "text": [
            "Cloning into 'framework'...\n",
            "remote: Enumerating objects: 11, done.\u001b[K\n",
            "remote: Counting objects:   9% (1/11)\u001b[K\rremote: Counting objects:  18% (2/11)\u001b[K\rremote: Counting objects:  27% (3/11)\u001b[K\rremote: Counting objects:  36% (4/11)\u001b[K\rremote: Counting objects:  45% (5/11)\u001b[K\rremote: Counting objects:  54% (6/11)\u001b[K\rremote: Counting objects:  63% (7/11)\u001b[K\rremote: Counting objects:  72% (8/11)\u001b[K\rremote: Counting objects:  81% (9/11)\u001b[K\rremote: Counting objects:  90% (10/11)\u001b[K\rremote: Counting objects: 100% (11/11)\u001b[K\rremote: Counting objects: 100% (11/11), done.\u001b[K\n",
            "remote: Compressing objects:  14% (1/7)\u001b[K\rremote: Compressing objects:  28% (2/7)\u001b[K\rremote: Compressing objects:  42% (3/7)\u001b[K\rremote: Compressing objects:  57% (4/7)\u001b[K\rremote: Compressing objects:  71% (5/7)\u001b[K\rremote: Compressing objects:  85% (6/7)\u001b[K\rremote: Compressing objects: 100% (7/7)\u001b[K\rremote: Compressing objects: 100% (7/7), done.\u001b[K\n",
            "remote: Total 11 (delta 2), reused 6 (delta 0), pack-reused 0\u001b[K\n",
            "Unpacking objects:   9% (1/11)\rUnpacking objects:  18% (2/11)\rUnpacking objects:  27% (3/11)\rUnpacking objects:  36% (4/11)\rUnpacking objects:  45% (5/11)\rUnpacking objects:  54% (6/11)\rUnpacking objects:  63% (7/11)\rUnpacking objects:  72% (8/11)\rUnpacking objects:  81% (9/11)\rUnpacking objects:  90% (10/11)\rUnpacking objects: 100% (11/11)\rUnpacking objects: 100% (11/11), 3.76 KiB | 1.88 MiB/s, done.\n"
          ]
        }
      ]
    },
    {
      "cell_type": "code",
      "source": [
        "#!git clone https://github.com/Madund3ad/assoc_example.git"
      ],
      "metadata": {
        "id": "t2NSLXRR5ik4"
      },
      "execution_count": null,
      "outputs": []
    },
    {
      "cell_type": "code",
      "source": [
        "!mkdir test"
      ],
      "metadata": {
        "id": "PnIB-CXTfmvl"
      },
      "execution_count": 28,
      "outputs": []
    },
    {
      "cell_type": "markdown",
      "source": [
        "Добавляем файлы"
      ],
      "metadata": {
        "id": "qO3H2YvufpSQ"
      }
    },
    {
      "cell_type": "code",
      "source": [],
      "metadata": {
        "id": "dF3A4UhvhOff"
      },
      "execution_count": null,
      "outputs": []
    },
    {
      "cell_type": "code",
      "source": [
        "!ls ./assoc_example/test/"
      ],
      "metadata": {
        "colab": {
          "base_uri": "https://localhost:8080/"
        },
        "id": "l1s7dLHjB8KY",
        "outputId": "f0525041-20da-48ab-b11d-0ff812923667"
      },
      "execution_count": 18,
      "outputs": [
        {
          "output_type": "stream",
          "name": "stdout",
          "text": [
            "f1.bed\tf2.bed\n"
          ]
        }
      ]
    },
    {
      "cell_type": "code",
      "source": [
        "!cat ./assoc_example/test/f1.bed"
      ],
      "metadata": {
        "colab": {
          "base_uri": "https://localhost:8080/"
        },
        "id": "_mGzx_mfCVJr",
        "outputId": "671745f1-ec90-4c6d-f77e-1ce12f35ce0b"
      },
      "execution_count": 19,
      "outputs": [
        {
          "output_type": "stream",
          "name": "stdout",
          "text": [
            "chr1\t1\t10\n",
            "chr2\t3\t15\n"
          ]
        }
      ]
    },
    {
      "cell_type": "code",
      "source": [
        "!cat ./assoc_example/test/f2.bed"
      ],
      "metadata": {
        "colab": {
          "base_uri": "https://localhost:8080/"
        },
        "id": "1jjmIQZQCWNq",
        "outputId": "8d204021-5210-4f22-bea9-d793a8461544"
      },
      "execution_count": 21,
      "outputs": [
        {
          "output_type": "stream",
          "name": "stdout",
          "text": [
            "chr1\t9\t15\n",
            "chr2\t20\t25\n"
          ]
        }
      ]
    },
    {
      "cell_type": "code",
      "source": [
        "!cat ./assoc_example/hg19.chrom.sizes.txt"
      ],
      "metadata": {
        "colab": {
          "base_uri": "https://localhost:8080/"
        },
        "id": "1wFNvn2eCW0M",
        "outputId": "3f27a5df-3b7d-4b9d-955a-f2aadbbb8117"
      },
      "execution_count": 22,
      "outputs": [
        {
          "output_type": "stream",
          "name": "stdout",
          "text": [
            "chr1\t249250621\n",
            "chr2\t243199373\n"
          ]
        }
      ]
    },
    {
      "cell_type": "code",
      "source": [
        "!Rscript ./Association/Association/main_assoc.R -i ./assoc_example/test/ -c ./assoc_example/hg19.chrom.sizes.txt"
      ],
      "metadata": {
        "colab": {
          "base_uri": "https://localhost:8080/"
        },
        "id": "QgpTkGaEsiWP",
        "outputId": "cd4337ac-7df7-490f-fff5-d4e4a512182c"
      },
      "execution_count": 23,
      "outputs": [
        {
          "output_type": "stream",
          "name": "stdout",
          "text": [
            "output path is not provided writing to /content/storage\n",
            "Usage: ./Association/Association/main_assoc.R [options]\n",
            "\n",
            "\n",
            "Options:\n",
            "\t-i <INPUT DIR>, --dir=<INPUT DIR>\n",
            "\t\tpath to input folder with bed files\n",
            "\n",
            "\t-o <PATH>, --out=<PATH>\n",
            "\t\toutput files directory [default= NULL]\n",
            "\n",
            "\t-g <GENOME.GTF>, --genome=<GENOME.GTF>\n",
            "\t\tpath to genome annotation file\n",
            "\n",
            "\t-c CHROM.SIZES, --chrom=CHROM.SIZES\n",
            "\t\tpath to chrom sizes file\n",
            "\n",
            "\t-v, --verbose\n",
            "\t\tverbosity level [default= FALSE]\n",
            "\n",
            "\t-p, --simulate\n",
            "\t\tenable simulated p-value\n",
            "\n",
            "\t-n NUMERIC, --nsim=NUMERIC\n",
            "\t\tnumber of simulations [default= 1000]\n",
            "\n",
            "\t-m CHARACTER, --mode=CHARACTER\n",
            "\t\tset scoring mode\n",
            "              region - use number of overlapping regions \n",
            "              bp - use overlap size \n",
            "              weighted_bp use score column\n",
            "\n",
            "\t-s, --strand\n",
            "\t\ttake strand into consideration\n",
            "\n",
            "\t-t CHARACTER, --target=CHARACTER\n",
            "\t\tpath to target file in one vs many mode\n",
            "\n",
            "\t-k MASK.BED, --mask=MASK.BED\n",
            "\t\tpath to mask file\n",
            "\n",
            "\t-h, --help\n",
            "\t\tShow this help message and exit\n",
            "\n",
            "\n",
            "genome file is not suppliedUsing parameters:\n",
            "dir = ./assoc_example/test/ \n",
            "chrom = ./assoc_example/hg19.chrom.sizes.txt \n",
            "verbose = FALSE \n",
            "simulate = FALSE \n",
            "nsim = 1000 \n",
            "mode = region \n",
            "strand = FALSE \n",
            "help = FALSE \n",
            "\u001b[?25h\u001b[?25h\u001b[?25h\u001b[?25h\u001b[?25h\u001b[?25h\u001b[?25h\u001b[?25h\u001b[?25h\u001b[?25h\u001b[?25h\u001b[?25h\u001b[?25h\u001b[?25h\u001b[?25h\u001b[?25h\u001b[?25h\u001b[?25h\u001b[?25h[1] \"2023-06-28 09:53:38.819137 Starting in many vs many mode\"\n",
            "Warning messages:\n",
            "1: In chisq.test(m, simulate.p.value = simulate.p.value) :\n",
            "  Chi-squared approximation may be incorrect\n",
            "2: In chisq.test(m, simulate.p.value = simulate.p.value) :\n",
            "  Chi-squared approximation may be incorrect\n",
            "\u001b[?25h\u001b[?25h\u001b[?25h\u001b[?25h\u001b[?25h\u001b[?25h\u001b[?25h\u001b[?25h\u001b[?25h"
          ]
        }
      ]
    },
    {
      "cell_type": "code",
      "source": [
        "!cat /content/storage/results.csv"
      ],
      "metadata": {
        "colab": {
          "base_uri": "https://localhost:8080/"
        },
        "id": "dxm7dZPYzHiS",
        "outputId": "4cb40753-9a9e-42d8-a8b3-aebe6a45b52e"
      },
      "execution_count": 74,
      "outputs": [
        {
          "output_type": "stream",
          "name": "stdout",
          "text": [
            "file_name\tf1\tf1_pr\tf1_p\tf2\tf2_pr\tf2_p\n",
            "f1\t2\t100 %\t-\t1\t50 %\t0\n",
            "f2\t1\t50 %\t0\t2\t100 %\t-\n"
          ]
        }
      ]
    },
    {
      "cell_type": "code",
      "source": [],
      "metadata": {
        "id": "eALl-yq75z3f"
      },
      "execution_count": null,
      "outputs": []
    }
  ]
}